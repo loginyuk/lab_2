{
 "cells": [
  {
   "attachments": {},
   "cell_type": "markdown",
   "metadata": {},
   "source": [
    "### Алгоритм Гаффмана"
   ]
  },
  {
   "attachments": {},
   "cell_type": "markdown",
   "metadata": {},
   "source": [
    "### Алгоритм Гаффмана"
   ]
  },
  {
   "cell_type": "code",
   "execution_count": 2,
   "metadata": {},
   "outputs": [],
   "source": [
    "\n",
    "import time"
   ]
  },
  {
   "attachments": {},
   "cell_type": "markdown",
   "metadata": {},
   "source": [
    "Читання з файлу"
   ]
  },
  {
   "cell_type": "code",
   "execution_count": 3,
   "metadata": {},
   "outputs": [],
   "source": [
    "def read_data(path):\n",
    "    with open(path, 'r', encoding = 'utf-8') as file:\n",
    "        data = file.read()\n",
    "    return data"
   ]
  },
  {
   "cell_type": "code",
   "execution_count": 47,
   "metadata": {},
   "outputs": [],
   "source": [
    "class huffman():\n",
    "    \"\"\"Huffman class which has huffman_compress, huffman_decompress and make_dict methods\"\"\"\n",
    "    def __init__(self, message) -> None:\n",
    "        \"\"\"The class constructor, stores the received message and analyzes it, creating the code dictionary for it\"\"\"\n",
    "        self.message = message\n",
    "        self.dictionary = self.make_dict()\n",
    "\n",
    "    def make_dict(self):\n",
    "        \"\"\"\"Analyzes the received class message, creating a code dict from it. Compares the frequencies and using Huffman method assigns\n",
    "        each unique character a corresponding code\"\"\"\n",
    "        characters = sorted([[ch,self.message.count(ch)] for ch in set(self.message)], key = lambda x: x[1])\n",
    "        dictionary = {ch: \"\" for ch in set(self.message)}\n",
    "        while len(characters)!=1:\n",
    "            for i in characters[0][0]:\n",
    "                dictionary[i] += '0'\n",
    "            for i in characters[1][0]:\n",
    "                dictionary[i] += '1'\n",
    "            characters.append([characters[0][0]+characters[1][0], characters[0][1]+characters[1][1]])\n",
    "            characters = characters[2:]\n",
    "            characters = sorted(characters, key = lambda x : x[1])\n",
    "        dictionary = {ch: value[::-1] for ch,value in dictionary.items()}\n",
    "        return dictionary\n",
    "\n",
    "    def huffman_compress(self):\n",
    "        \"\"\" Encodes the class received message, replaces all characters with their corresponding codes, sadly does this in string format\"\"\"\n",
    "        message = []\n",
    "        for i in self.message:\n",
    "            message.append(self.dictionary[i])\n",
    "        return \" \".join(message)\n",
    "\n",
    "    def huffman_decompess(self, encoded: str):\n",
    "        \"\"\"Receives a message that has been encoded with huffman_compress and decodes it into string\"\"\"\n",
    "        encoded = encoded.split()\n",
    "        dictionary = {value: ch for ch,value in self.dictionary.items()}\n",
    "        for ind, val in enumerate(encoded):\n",
    "            encoded[ind] = dictionary[val]\n",
    "        return \"\".join(encoded)"
   ]
  },
  {
   "cell_type": "code",
   "execution_count": 48,
   "metadata": {},
   "outputs": [],
   "source": [
    "#Let`s compare whether our original file and the encoded then decoded file are the same by storing the decoded version in another file`\n",
    "a = huffman(read_data('data.txt'))\n",
    "\n",
    "encoded = a.huffman_compress()\n",
    "decoded = a.huffman_decompess(encoded)\n",
    "with open('huffman_dec.txt', 'w', encoding = 'utf-8') as file:\n",
    "    file.write(decoded)\n",
    "\n",
    "a = huffman('sdfghjkl;utyrewrtyuoiuhjgvcbnjlkio86redsxcvbjkoi8765redxcvbu')\n",
    "encoded = a.huffman_compress()"
   ]
  },
  {
   "cell_type": "code",
   "execution_count": 49,
   "metadata": {},
   "outputs": [],
   "source": [
    "# Let's test our code on different amount of data\n",
    "if __name__ == \"__main__\":\n",
    "    time_code = []\n",
    "    value = []\n",
    "    for i in range(10, 10000):\n",
    "        array_start = list(read_data('data.txt'))[:i]\n",
    "        a = huffman(array_start)\n",
    "        start = time.time()\n",
    "        encode = a.huffman_compress()\n",
    "        decode = a.huffman_decompess(encode)\n",
    "        finish = time.time() - start\n",
    "        time_code.append(finish)\n",
    "        value.append(i)\n"
   ]
  },
  {
   "cell_type": "code",
   "execution_count": 6,
   "metadata": {},
   "outputs": [
    {
     "data": {
      "image/png": "[encoded data removed]",
      "text/plain": [
       "<Figure size 640x480 with 1 Axes>"
      ]
     },
     "metadata": {},
     "output_type": "display_data"
    }
   ],
   "source": [
    "#And visualise it\n",
    "import matplotlib.pyplot as plt\n",
    "plt.plot(value, time_code)\n",
    "plt.xlabel('Length of data')\n",
    "plt.ylabel('Time')\n",
    "plt.show()"
   ]
  },
  {
   "cell_type": "code",
   "execution_count": 25,
   "metadata": {},
   "outputs": [
    {
     "name": "stdout",
     "output_type": "stream",
     "text": [
      "Для всього файла\n",
      "Довжина початкового: 2081 байт\n",
      "Довжина кінцевого : 1135 байт\n",
      "Ступінь стиснення: 45.458913983661695% \n",
      "Стиснення для 1000 символів\n",
      "Довжина початкового: 1000 байт\n",
      "Довжина кінцевого : 546 байт\n",
      "Ступінь стиснення: 45.4% \n",
      "Стиснення для 500 символів\n",
      "Довжина початкового: 500 байт\n",
      "Довжина кінцевого : 277 байт\n",
      "Ступінь стиснення: 44.599999999999994% \n",
      "Стиснення для 10 символів\n",
      "Довжина початкового: 10 байт\n",
      "Довжина кінцевого : 4 байт\n",
      "Ступінь стиснення: 60.0% \n"
     ]
    }
   ],
   "source": [
    "array_start = list(read_data('data.txt'))\n",
    "a = huffman(array_start)\n",
    "encode = a.huffman_compress()\n",
    "encoded_length = round(len(\"\".join(encode.split()))/8)\n",
    "print(\"Для всього файла\")\n",
    "# As we have worked with srings, for us to count how the real Huffman algorithm would work with our code dictionary ,we have to\n",
    "# get rid of all the spaces in our encoded message and divide it by 8, as that would be the nuber of bytes it would take to store such a message\n",
    "print(f\"Довжина початкового: {len(array_start)} байт\")\n",
    "print(f'Довжина кінцевого : {encoded_length} байт')\n",
    "print(f\"Ступінь стиснення: {(1-encoded_length/len(array_start)) * 100}% \")\n",
    "\n",
    "array_start = list(read_data('data.txt'))[:1000]\n",
    "a = huffman(array_start)\n",
    "encode = a.huffman_compress()\n",
    "encoded_length = round(len(\"\".join(encode.split()))/8)\n",
    "print(\"Стиснення для 1000 символів\")\n",
    "# As we have worked with srings, for us to count how the real Huffman algorithm would work with our code dictionary ,we have to\n",
    "# get rid of all the spaces in our encoded message and divide it by 8, as that would be the nuber of bytes it would take to store such a message\n",
    "print(f\"Довжина початкового: {len(array_start)} байт\")\n",
    "print(f'Довжина кінцевого : {encoded_length} байт')\n",
    "print(f\"Ступінь стиснення: {(1-encoded_length/len(array_start)) * 100}% \")\n",
    "\n",
    "array_start = list(read_data('data.txt'))[:500]\n",
    "a = huffman(array_start)\n",
    "encode = a.huffman_compress()\n",
    "encoded_length = round(len(\"\".join(encode.split()))/8)\n",
    "print(\"Стиснення для 500 символів\")\n",
    "# As we have worked with srings, for us to count how the real Huffman algorithm would work with our code dictionary ,we have to\n",
    "# get rid of all the spaces in our encoded message and divide it by 8, as that would be the nuber of bytes it would take to store such a message\n",
    "print(f\"Довжина початкового: {len(array_start)} байт\")\n",
    "print(f'Довжина кінцевого : {encoded_length} байт')\n",
    "print(f\"Ступінь стиснення: {(1-encoded_length/len(array_start)) * 100}% \")\n",
    "\n",
    "array_start = list(read_data('data.txt'))[:10]\n",
    "a = huffman(array_start)\n",
    "encode = a.huffman_compress()\n",
    "encoded_length = round(len(\"\".join(encode.split()))/8)\n",
    "print(\"Стиснення для 10 символів\")\n",
    "# As we have worked with srings, for us to count how the real Huffman algorithm would work with our code dictionary ,we have to\n",
    "# get rid of all the spaces in our encoded message and divide it by 8, as that would be the nuber of bytes it would take to store such a message\n",
    "print(f\"Довжина початкового: {len(array_start)} байт\")\n",
    "print(f'Довжина кінцевого : {encoded_length} байт')\n",
    "print(f\"Ступінь стиснення: {(1-encoded_length/len(array_start)) * 100}% \")"
   ]
  },
  {
   "attachments": {},
   "cell_type": "markdown",
   "metadata": {},
   "source": [
    "Можна побачити, що час який витрачає алгоритм, приблизно однаковий для всіх довжин вхідних даних, також легко переконатися, що ступінь стиснення приблизно однаковий для різних даних"
   ]
  }
 ],
 "metadata": {
  "kernelspec": {
   "display_name": "Python 3.11.1 64-bit",
   "language": "python",
   "name": "python3"
  },
  "language_info": {
   "codemirror_mode": {
    "name": "ipython",
    "version": 3
   },
   "file_extension": ".py",
   "mimetype": "text/x-python",
   "name": "python",
   "nbconvert_exporter": "python",
   "pygments_lexer": "ipython3",
   "version": "3.11.1"
  },
  "orig_nbformat": 4,
  "vscode": {
   "interpreter": {
    "hash": "aee8b7b246df8f9039afb4144a1f6fd8d2ca17a180786b69acc140d282b71a49"
   }
  }
 },
 "nbformat": 4,
 "nbformat_minor": 2
}
