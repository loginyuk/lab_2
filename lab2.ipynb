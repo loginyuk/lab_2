{
 "cells": [
  {
   "cell_type": "code",
   "execution_count": 11,
   "metadata": {},
   "outputs": [],
   "source": [
    "import time\n",
    "import matplotlib.pyplot as plt"
   ]
  },
  {
   "cell_type": "markdown",
   "metadata": {},
   "source": [
    "### Функція, яка отримує дані з файлу"
   ]
  },
  {
   "cell_type": "code",
   "execution_count": 12,
   "metadata": {},
   "outputs": [],
   "source": [
    "def read_data(path):\n",
    "    with open(path, 'r', encoding = 'utf-8') as file:\n",
    "        data = file.read()\n",
    "    return data\n",
    "\n",
    "array_start = list(read_data('data/data_10000.txt'))"
   ]
  },
  {
   "cell_type": "markdown",
   "metadata": {},
   "source": [
    "# Алгоритм LZW"
   ]
  },
  {
   "cell_type": "markdown",
   "metadata": {},
   "source": [
    "### Реалізація самого алгоритму.\n",
    "<code>lzw_compress</code> - стиснення\n",
    "<br><code>lzw_decompress</code> - розшифрування"
   ]
  },
  {
   "cell_type": "code",
   "execution_count": 13,
   "metadata": {},
   "outputs": [],
   "source": [
    "class Lzw:\n",
    "    def __init__(self, array):\n",
    "        self.array = array\n",
    "        self.dictionary = self.make_dict(self.array)\n",
    "        self.code = self.lzw_compress(self.array, self.dictionary)\n",
    "        self.decoded = self.lzw_decompress(self.code, self.dictionary)\n",
    "\n",
    "    def make_dict(self, array):\n",
    "        array_set = sorted(list(set(array)))\n",
    "        muneric = list(range(len(array_set)))\n",
    "        return dict(zip(array_set, muneric))\n",
    "\n",
    "    def lzw_compress(self, array, dictionary):\n",
    "        code = []\n",
    "        current, following = array[0], array[1]\n",
    "        for idx in range(1, len(array)):\n",
    "            len_d = len(dictionary)\n",
    "            string = current+following\n",
    "            counter = 1\n",
    "            if string not in dictionary:\n",
    "                code.append(str(dictionary[current]))\n",
    "                dictionary[string] = len_d\n",
    "                current = array[idx]\n",
    "                try:\n",
    "                    following = array[idx+1]\n",
    "                except IndexError:\n",
    "                    code.append(str(dictionary[current]))\n",
    "            else:\n",
    "                current = string\n",
    "                try:\n",
    "                    following = array[idx+counter]\n",
    "                    counter += 1\n",
    "                except IndexError:\n",
    "                    code.append(str(dictionary[current]))\n",
    "        return ' '.join(code)\n",
    "\n",
    "    def lzw_decompress(self, code, dictionary):\n",
    "        key_list = list(dictionary.keys())\n",
    "        val_list = list(dictionary.values())\n",
    "        decoded = []\n",
    "        for symbol in code.split():\n",
    "            decoded.append(key_list[val_list.index(int(symbol))])\n",
    "        return ''.join(decoded)"
   ]
  },
  {
   "cell_type": "markdown",
   "metadata": {},
   "source": [
    "### Запис у файл"
   ]
  },
  {
   "cell_type": "code",
   "execution_count": 14,
   "metadata": {},
   "outputs": [],
   "source": [
    "a = Lzw(list(read_data('data/data_10000.txt')))\n",
    "\n",
    "with open('data/lzw_code.txt', 'w', encoding = 'utf-8') as file:\n",
    "    file.write(a.code)\n",
    "\n",
    "with open('data/lzw_dec.txt', 'w', encoding = 'utf-8') as file:\n",
    "    file.write(a.decoded)"
   ]
  },
  {
   "cell_type": "code",
   "execution_count": 15,
   "metadata": {},
   "outputs": [],
   "source": [
    "if __name__ == \"__main__\":\n",
    "    time_code = []\n",
    "    value = []\n",
    "    for i in range(10, 10000):\n",
    "        array_start = list(read_data('data/data_10000.txt'))[:i]\n",
    "        a = Lzw(array_start)\n",
    "        start = time.time()\n",
    "        encode = a.lzw_compress\n",
    "        decode = a.lzw_decompress\n",
    "        finish = time.time() - start\n",
    "        time_code.append(finish)\n",
    "        value.append(i)"
   ]
  },
  {
   "cell_type": "markdown",
   "metadata": {},
   "source": [
    "### Графік на основі даних 10-10000.\n",
    "X - довжина даних\n",
    "<br> Y - час\n"
   ]
  },
  {
   "cell_type": "code",
   "execution_count": 16,
   "metadata": {},
   "outputs": [
    {
     "data": {
      "image/png": "[encoded data removed]",
      "text/plain": [
       "<Figure size 1500x480 with 1 Axes>"
      ]
     },
     "metadata": {},
     "output_type": "display_data"
    }
   ],
   "source": [
    "plt.figure().set_figwidth(15)\n",
    "plt.plot(value, time_code)\n",
    "plt.ylim(0, 0.000007)\n",
    "plt.xlabel('Length of data')\n",
    "plt.ylabel('Time')\n",
    "plt.show()\n"
   ]
  },
  {
   "cell_type": "markdown",
   "metadata": {},
   "source": [
    "### Оцінка стистення алгоритму"
   ]
  },
  {
   "cell_type": "code",
   "execution_count": 20,
   "metadata": {},
   "outputs": [
    {
     "name": "stdout",
     "output_type": "stream",
     "text": [
      "Довжина початкового: 1000\n",
      "Довжина стиснутого: 376\n",
      "Ступінь стиснення: 62.4% \n",
      "Довжина початкового: 1000\n",
      "Довжина стиснутого: 212\n",
      "Ступінь стиснення: 78.8% \n",
      "Довжина початкового: 1000\n",
      "Довжина стиснутого: 59\n",
      "Ступінь стиснення: 94.10000000000001% \n",
      "Довжина початкового: 1000\n",
      "Довжина стиснутого: 9\n",
      "Ступінь стиснення: 99.1% \n"
     ]
    }
   ],
   "source": [
    "a = Lzw(array_start)\n",
    "encode = a.lzw_compress\n",
    "\n",
    "print(f\"Довжина початкового: {len(array_start)}\")\n",
    "print(f\"Довжина стиснутого: {len(a.code.split(' '))}\")\n",
    "print(f\"Ступінь стиснення: {(1-(len(a.code.split(' '))/len(array_start))) * 100}% \")\n",
    "\n",
    "a = Lzw(array_start[:500])\n",
    "encode = a.lzw_compress\n",
    "\n",
    "print(f\"Довжина початкового: {len(array_start)}\")\n",
    "print(f\"Довжина стиснутого: {len(a.code.split(' '))}\")\n",
    "print(f\"Ступінь стиснення: {(1-(len(a.code.split(' '))/len(array_start))) * 100}% \")\n",
    "\n",
    "a = Lzw(array_start[:100])\n",
    "encode = a.lzw_compress\n",
    "\n",
    "print(f\"Довжина початкового: {len(array_start)}\")\n",
    "print(f\"Довжина стиснутого: {len(a.code.split(' '))}\")\n",
    "print(f\"Ступінь стиснення: {(1-(len(a.code.split(' '))/len(array_start))) * 100}% \")\n",
    "\n",
    "a = Lzw(array_start[:10])\n",
    "encode = a.lzw_compress\n",
    "\n",
    "print(f\"Довжина початкового: {len(array_start)}\")\n",
    "print(f\"Довжина стиснутого: {len(a.code.split(' '))}\")\n",
    "print(f\"Ступінь стиснення: {(1-(len(a.code.split(' '))/len(array_start))) * 100}% \")"
   ]
  },
  {
   "cell_type": "markdown",
   "metadata": {},
   "source": [
    "По графіку можна побачити, що час виконання алгоритму зростає до 1500 символів. Далі йде більш-менш стабільно. Алгоритм ефективно стискає дані та доволі швидкий. Слкадність алгоритму - O(n)"
   ]
  },
  {
   "cell_type": "markdown",
   "metadata": {},
   "source": [
    "# Алгоритм LZ77"
   ]
  },
  {
   "cell_type": "markdown",
   "metadata": {},
   "source": [
    "### Реалізація самого алгоритму.\n",
    "<code>lz77_compress</code> - стиснення\n",
    "<br><code>lz77_decompress</code> - розшифрування"
   ]
  },
  {
   "cell_type": "code",
   "execution_count": 21,
   "metadata": {},
   "outputs": [],
   "source": [
    "class Lz77:\n",
    "    def __init__(self, array, buffer):\n",
    "        self.array = array\n",
    "        self.buffer = buffer\n",
    "        self.code = self.lz77_compress(self.array, self.buffer)\n",
    "        self.decoded = self.lz77_decompress(self.code)\n",
    "\n",
    "    def lz77_compress(self, array, buffer):\n",
    "        code = []\n",
    "        border = 0\n",
    "        while border < len(self.array):\n",
    "            offset, length = 0, 0\n",
    "            for iter_buffer in range(border):\n",
    "                step = 0\n",
    "                while step < self.buffer and border + step < len(self.array) and self.array[iter_buffer + step] == self.array[border + step]:\n",
    "                    step += 1\n",
    "                if step > length:\n",
    "                    offset = border - iter_buffer\n",
    "                    length = step\n",
    "            if length == 0:\n",
    "                code.append((0, 0, self.array[border]))\n",
    "                border += 1\n",
    "            else:\n",
    "                next_symbol = self.array[border + length] if border + length < len(self.array) else ''\n",
    "                code.append((offset, length, next_symbol))\n",
    "                border += length + 1\n",
    "        return code\n",
    "\n",
    "    def lz77_decompress(self, code):\n",
    "        decoded = ''\n",
    "        for element in self.code:\n",
    "            offset, length, symbol = element[0], element[1], element[2]\n",
    "            if length != 0:\n",
    "                start = len(decoded) - offset\n",
    "                for i in range(length):\n",
    "                    decoded += decoded[start + i]\n",
    "            decoded += symbol\n",
    "        return decoded"
   ]
  },
  {
   "cell_type": "markdown",
   "metadata": {},
   "source": [
    "### Запис у файл"
   ]
  },
  {
   "cell_type": "code",
   "execution_count": 22,
   "metadata": {},
   "outputs": [],
   "source": [
    "a = Lz77(list(read_data('data/data_10000.txt')), 15)\n",
    "print\n",
    "with open('data/lz77_code.txt', 'w', encoding = 'utf-8') as file:\n",
    "    coded = a.code\n",
    "    for i in coded:\n",
    "        file.write(str(i))\n",
    "\n",
    "with open('data/lz77_dec.txt', 'w', encoding = 'utf-8') as file:\n",
    "    file.write(a.decoded)"
   ]
  },
  {
   "cell_type": "code",
   "execution_count": 23,
   "metadata": {},
   "outputs": [],
   "source": [
    "if __name__ == \"__main__\":\n",
    "    time_code = []\n",
    "    value = []\n",
    "    for i in range(10, 10000, 10):\n",
    "        array_start = array_start = list(read_data('data/data_10000.txt'))[:i]\n",
    "        a = Lz77(array_start, 15)\n",
    "        start = time.time()\n",
    "        encode = a.lz77_compress\n",
    "        decode = a.lz77_decompress\n",
    "        finish = time.time() - start\n",
    "        time_code.append(finish)\n",
    "        value.append(i)"
   ]
  },
  {
   "cell_type": "markdown",
   "metadata": {},
   "source": [
    "### Графік на основі даних 10-10000.\n",
    "X - довжина даних\n",
    "<br> Y - час\n"
   ]
  },
  {
   "cell_type": "code",
   "execution_count": 25,
   "metadata": {},
   "outputs": [
    {
     "data": {
      "image/png": "[encoded data removed]",
      "text/plain": [
       "<Figure size 1500x480 with 1 Axes>"
      ]
     },
     "metadata": {},
     "output_type": "display_data"
    }
   ],
   "source": [
    "plt.figure().set_figwidth(15)\n",
    "plt.plot(value, time_code)\n",
    "plt.xlabel('Length of data')\n",
    "plt.ylabel('Time')\n",
    "plt.show()"
   ]
  },
  {
   "cell_type": "markdown",
   "metadata": {},
   "source": [
    "### Оцінка стистення алгоритму"
   ]
  },
  {
   "cell_type": "code",
   "execution_count": 27,
   "metadata": {},
   "outputs": [
    {
     "name": "stdout",
     "output_type": "stream",
     "text": [
      "Довжина початкового: 1000\n",
      "Довжина стиснутого: 690\n",
      "Ступінь стиснення: 31.000000000000007% \n",
      "Довжина початкового: 1000\n",
      "Довжина стиснутого: 387\n",
      "Ступінь стиснення: 61.3% \n",
      "Довжина початкового: 1000\n",
      "Довжина стиснутого: 105\n",
      "Ступінь стиснення: 89.5% \n",
      "Довжина початкового: 1000\n",
      "Довжина стиснутого: 21\n",
      "Ступінь стиснення: 97.89999999999999% \n"
     ]
    }
   ],
   "source": [
    "a = Lz77(array_start, 15)\n",
    "encode = a.lz77_compress\n",
    "print(f\"Довжина початкового: {len(array_start)}\")\n",
    "print(f\"Довжина стиснутого: {len(a.code)*3}\")\n",
    "print(f\"Ступінь стиснення: {(1-((len(a.code)*3)/len(array_start))) * 100}% \")\n",
    "\n",
    "a = Lz77(array_start[:500], 15)\n",
    "encode = a.lz77_compress\n",
    "print(f\"Довжина початкового: {len(array_start)}\")\n",
    "print(f\"Довжина стиснутого: {len(a.code)*3}\")\n",
    "print(f\"Ступінь стиснення: {(1-((len(a.code)*3)/len(array_start))) * 100}% \")\n",
    "\n",
    "a = Lz77(array_start[:100], 15)\n",
    "encode = a.lz77_compress\n",
    "print(f\"Довжина початкового: {len(array_start)}\")\n",
    "print(f\"Довжина стиснутого: {len(a.code)*3}\")\n",
    "print(f\"Ступінь стиснення: {(1-((len(a.code)*3)/len(array_start))) * 100}% \")\n",
    "\n",
    "a = Lz77(array_start[:10], 15)\n",
    "encode = a.lz77_compress\n",
    "print(f\"Довжина початкового: {len(array_start)}\")\n",
    "print(f\"Довжина стиснутого: {len(a.code)*3}\")\n",
    "print(f\"Ступінь стиснення: {(1-((len(a.code)*3)/len(array_start))) * 100}% \")"
   ]
  },
  {
   "cell_type": "markdown",
   "metadata": {},
   "source": [
    "По графіку можна побачити, що час виконання алгоритму також зростає до 1500 символів. Далі йде більш-менш стабільно. Алгоритм менш ефективний, ніж lzw, стискає дані гірше та повільніший. Слкадність алгоритму - O(n^2)"
   ]
  },
  {
   "cell_type": "markdown",
   "metadata": {},
   "source": [
    "# Алгоритм Гаффмана"
   ]
  },
  {
   "cell_type": "code",
   "execution_count": 28,
   "metadata": {},
   "outputs": [],
   "source": [
    "class huffman():\n",
    "    \"\"\"Huffman class which has huffman_compress, huffman_decompress and make_dict methods\"\"\"\n",
    "    def __init__(self, message) -> None:\n",
    "        \"\"\"The class constructor, stores the received message and analyzes it, creating the code dictionary for it\"\"\"\n",
    "        self.message = message\n",
    "        self.dictionary = self.make_dict()\n",
    "\n",
    "    def make_dict(self):\n",
    "        \"\"\"\"Analyzes the received class message, creating a code dict from it. Compares the frequencies and using Huffman method assigns\n",
    "        each unique character a corresponding code\"\"\"\n",
    "        characters = sorted([[ch,self.message.count(ch)] for ch in set(self.message)], key = lambda x: x[1])\n",
    "        dictionary = {ch: \"\" for ch in set(self.message)}\n",
    "        while len(characters)!=1:\n",
    "            for i in characters[0][0]:\n",
    "                dictionary[i] += '0'\n",
    "            for i in characters[1][0]:\n",
    "                dictionary[i] += '1'\n",
    "            characters.append([characters[0][0]+characters[1][0], characters[0][1]+characters[1][1]])\n",
    "            characters = characters[2:]\n",
    "            characters = sorted(characters, key = lambda x : x[1])\n",
    "        dictionary = {ch: value[::-1] for ch,value in dictionary.items()}\n",
    "        return dictionary\n",
    "\n",
    "    def huffman_compress(self):\n",
    "        \"\"\" Encodes the class received message, replaces all characters with their corresponding codes, sadly does this in string format\"\"\"\n",
    "        message = []\n",
    "        for i in self.message:\n",
    "            message.append(self.dictionary[i])\n",
    "        return \" \".join(message)\n",
    "\n",
    "    def huffman_decompess(self, encoded: str):\n",
    "        \"\"\"Receives a message that has been encoded with huffman_compress and decodes it into string\"\"\"\n",
    "        encoded = encoded.split()\n",
    "        dictionary = {value: ch for ch,value in self.dictionary.items()}\n",
    "        for ind, val in enumerate(encoded):\n",
    "            encoded[ind] = dictionary[val]\n",
    "        return \"\".join(encoded)"
   ]
  },
  {
   "cell_type": "code",
   "execution_count": 29,
   "metadata": {},
   "outputs": [],
   "source": [
    "#Let`s compare whether our original file and the encoded then decoded file are the same by storing the decoded version in another file`\n",
    "a = huffman(read_data('data/data.txt'))\n",
    "\n",
    "encoded = a.huffman_compress()\n",
    "decoded = a.huffman_decompess(encoded)\n",
    "with open('data/huffman_dec.txt', 'w', encoding = 'utf-8') as file:\n",
    "    file.write(decoded)"
   ]
  },
  {
   "cell_type": "code",
   "execution_count": 30,
   "metadata": {},
   "outputs": [],
   "source": [
    "# Let's test our code on different amount of data\n",
    "if __name__ == \"__main__\":\n",
    "    time_code = []\n",
    "    value = []\n",
    "    for i in range(10, 10000):\n",
    "        array_start = list(read_data('data/data.txt'))[:i]\n",
    "        a = huffman(array_start)\n",
    "        start = time.time()\n",
    "        encode = a.huffman_compress()\n",
    "        decode = a.huffman_decompess(encode)\n",
    "        finish = time.time() - start\n",
    "        time_code.append(finish)\n",
    "        value.append(i)\n"
   ]
  },
  {
   "cell_type": "code",
   "execution_count": 18,
   "metadata": {},
   "outputs": [
    {
     "data": {
      "image/png": "[encoded data removed]",
      "text/plain": [
       "<Figure size 640x480 with 1 Axes>"
      ]
     },
     "metadata": {},
     "output_type": "display_data"
    }
   ],
   "source": [
    "#And visualise it\n",
    "import matplotlib.pyplot as plt\n",
    "plt.plot(value, time_code)\n",
    "plt.xlabel('Length of data')\n",
    "plt.ylabel('Time')\n",
    "plt.show()"
   ]
  },
  {
   "cell_type": "code",
   "execution_count": 20,
   "metadata": {},
   "outputs": [
    {
     "name": "stdout",
     "output_type": "stream",
     "text": [
      "Для всього файла\n",
      "Довжина початкового: 2081 байт\n",
      "Довжина кінцевого : 1135 байт\n",
      "Ступінь стиснення: 45.458913983661695% \n",
      "Стиснення для 1000 символів\n",
      "Довжина початкового: 1000 байт\n",
      "Довжина кінцевого : 546 байт\n",
      "Ступінь стиснення: 45.4% \n",
      "Стиснення для 500 символів\n",
      "Довжина початкового: 500 байт\n",
      "Довжина кінцевого : 277 байт\n",
      "Ступінь стиснення: 44.599999999999994% \n",
      "Стиснення для 10 символів\n",
      "Довжина початкового: 10 байт\n",
      "Довжина кінцевого : 4 байт\n",
      "Ступінь стиснення: 60.0% \n"
     ]
    }
   ],
   "source": [
    "array_start = list(read_data('data/data.txt'))\n",
    "a = huffman(array_start)\n",
    "encode = a.huffman_compress()\n",
    "encoded_length = round(len(\"\".join(encode.split()))/8)\n",
    "print(\"Для всього файла\")\n",
    "# As we have worked with srings, for us to count how the real Huffman algorithm would work with our code dictionary ,we have to\n",
    "# get rid of all the spaces in our encoded message and divide it by 8, as that would be the nuber of bytes it would take to store such a message\n",
    "print(f\"Довжина початкового: {len(array_start)} байт\")\n",
    "print(f'Довжина кінцевого : {encoded_length} байт')\n",
    "print(f\"Ступінь стиснення: {(1-encoded_length/len(array_start)) * 100}% \")\n",
    "\n",
    "array_start = list(read_data('data/data.txt'))[:1000]\n",
    "a = huffman(array_start)\n",
    "encode = a.huffman_compress()\n",
    "encoded_length = round(len(\"\".join(encode.split()))/8)\n",
    "print(\"Стиснення для 1000 символів\")\n",
    "# As we have worked with srings, for us to count how the real Huffman algorithm would work with our code dictionary ,we have to\n",
    "# get rid of all the spaces in our encoded message and divide it by 8, as that would be the nuber of bytes it would take to store such a message\n",
    "print(f\"Довжина початкового: {len(array_start)} байт\")\n",
    "print(f'Довжина кінцевого : {encoded_length} байт')\n",
    "print(f\"Ступінь стиснення: {(1-encoded_length/len(array_start)) * 100}% \")\n",
    "\n",
    "array_start = list(read_data('data/data.txt'))[:500]\n",
    "a = huffman(array_start)\n",
    "encode = a.huffman_compress()\n",
    "encoded_length = round(len(\"\".join(encode.split()))/8)\n",
    "print(\"Стиснення для 500 символів\")\n",
    "# As we have worked with srings, for us to count how the real Huffman algorithm would work with our code dictionary ,we have to\n",
    "# get rid of all the spaces in our encoded message and divide it by 8, as that would be the nuber of bytes it would take to store such a message\n",
    "print(f\"Довжина початкового: {len(array_start)} байт\")\n",
    "print(f'Довжина кінцевого : {encoded_length} байт')\n",
    "print(f\"Ступінь стиснення: {(1-encoded_length/len(array_start)) * 100}% \")\n",
    "\n",
    "array_start = list(read_data('data/data.txt'))[:10]\n",
    "a = huffman(array_start)\n",
    "encode = a.huffman_compress()\n",
    "encoded_length = round(len(\"\".join(encode.split()))/8)\n",
    "print(\"Стиснення для 10 символів\")\n",
    "# As we have worked with srings, for us to count how the real Huffman algorithm would work with our code dictionary ,we have to\n",
    "# get rid of all the spaces in our encoded message and divide it by 8, as that would be the nuber of bytes it would take to store such a message\n",
    "print(f\"Довжина початкового: {len(array_start)} байт\")\n",
    "print(f'Довжина кінцевого : {encoded_length} байт')\n",
    "print(f\"Ступінь стиснення: {(1-encoded_length/len(array_start)) * 100}% \")"
   ]
  },
  {
   "attachments": {},
   "cell_type": "markdown",
   "metadata": {},
   "source": [
    "Можна побачити, що час який витрачає алгоритм, приблизно однаковий для всіх довжин вхідних даних, також легко переконатися, що ступінь стиснення приблизно однаковий для різних даних. Складність алгоритму  - О(nlogn)"
   ]
  },
  {
   "attachments": {},
   "cell_type": "markdown",
   "metadata": {},
   "source": [
    "Висновок: Більшість алгоритмів працюють найкраще на малих вибірках, якщо треба брати дуже великі дані, найкращим залишається Lzw, далі Гаффмана, потім Lz77\n",
    "\n",
    "Lz77 та Lzw - виконав Юрій Логін\n",
    "Алгоритм Гаффмана - виконала Сидор Наталія"
   ]
  }
 ],
 "metadata": {
  "kernelspec": {
   "display_name": "Python 3.11.1 64-bit",
   "language": "python",
   "name": "python3"
  },
  "language_info": {
   "codemirror_mode": {
    "name": "ipython",
    "version": 3
   },
   "file_extension": ".py",
   "mimetype": "text/x-python",
   "name": "python",
   "nbconvert_exporter": "python",
   "pygments_lexer": "ipython3",
   "version": "3.11.2"
  },
  "orig_nbformat": 4,
  "vscode": {
   "interpreter": {
    "hash": "aee8b7b246df8f9039afb4144a1f6fd8d2ca17a180786b69acc140d282b71a49"
   }
  }
 },
 "nbformat": 4,
 "nbformat_minor": 2
}
